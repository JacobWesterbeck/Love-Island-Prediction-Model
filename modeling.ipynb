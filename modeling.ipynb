{
 "cells": [
  {
   "cell_type": "markdown",
   "metadata": {},
   "source": [
    "### Predictive Modeling"
   ]
  },
  {
   "cell_type": "markdown",
   "metadata": {},
   "source": [
    "Modeling Outline:\n",
    "1. Import Packages/Data/Functions\n",
    "2. Split Data\n",
    "3. Data Modeling\n",
    "4. Cross Validation\n",
    "5. Run Best Performing Model with Test Data Split"
   ]
  },
  {
   "cell_type": "code",
   "execution_count": 4,
   "metadata": {},
   "outputs": [],
   "source": [
    "#Import packages\n",
    "import pandas as pd\n",
    "import numpy as np\n",
    "import seaborn as sns"
   ]
  },
  {
   "cell_type": "code",
   "execution_count": 5,
   "metadata": {},
   "outputs": [],
   "source": [
    "#Import data split function from data_preprocessing.py\n",
    "from data_preprocessing import train_val_test"
   ]
  },
  {
   "cell_type": "code",
   "execution_count": 6,
   "metadata": {},
   "outputs": [],
   "source": [
    "#Import packges for modeling\n",
    "from sklearn.dummy import DummyClassifier\n",
    "from sklearn.linear_model import LogisticRegression\n",
    "from sklearn.ensemble import RandomForestClassifier\n",
    "from sklearn import tree\n",
    "from sklearn.linear_model import Perceptron\n",
    "from sklearn.neighbors import KNeighborsClassifier\n",
    "from sklearn.metrics import accuracy_score"
   ]
  },
  {
   "cell_type": "code",
   "execution_count": 7,
   "metadata": {},
   "outputs": [],
   "source": [
    "import os\n",
    "cwd = os.getcwd()"
   ]
  },
  {
   "cell_type": "code",
   "execution_count": 8,
   "metadata": {},
   "outputs": [],
   "source": [
    "model_data = pd.read_csv(cwd + '/data/model_data.csv', index_col=0)"
   ]
  },
  {
   "cell_type": "code",
   "execution_count": 9,
   "metadata": {},
   "outputs": [
    {
     "data": {
      "text/html": [
       "<div>\n",
       "<style scoped>\n",
       "    .dataframe tbody tr th:only-of-type {\n",
       "        vertical-align: middle;\n",
       "    }\n",
       "\n",
       "    .dataframe tbody tr th {\n",
       "        vertical-align: top;\n",
       "    }\n",
       "\n",
       "    .dataframe thead th {\n",
       "        text-align: right;\n",
       "    }\n",
       "</style>\n",
       "<table border=\"1\" class=\"dataframe\">\n",
       "  <thead>\n",
       "    <tr style=\"text-align: right;\">\n",
       "      <th></th>\n",
       "      <th>Season</th>\n",
       "      <th>Gender</th>\n",
       "      <th>Age</th>\n",
       "      <th>Height</th>\n",
       "      <th>Entered</th>\n",
       "      <th>Finalist</th>\n",
       "      <th>Loyalty</th>\n",
       "    </tr>\n",
       "    <tr>\n",
       "      <th>Name</th>\n",
       "      <th></th>\n",
       "      <th></th>\n",
       "      <th></th>\n",
       "      <th></th>\n",
       "      <th></th>\n",
       "      <th></th>\n",
       "      <th></th>\n",
       "    </tr>\n",
       "  </thead>\n",
       "  <tbody>\n",
       "    <tr>\n",
       "      <th>Malia Arkian</th>\n",
       "      <td>2</td>\n",
       "      <td>False</td>\n",
       "      <td>26</td>\n",
       "      <td>66</td>\n",
       "      <td>7</td>\n",
       "      <td>False</td>\n",
       "      <td>0.300598</td>\n",
       "    </tr>\n",
       "    <tr>\n",
       "      <th>Ben Porter</th>\n",
       "      <td>1</td>\n",
       "      <td>True</td>\n",
       "      <td>24</td>\n",
       "      <td>71</td>\n",
       "      <td>32</td>\n",
       "      <td>False</td>\n",
       "      <td>0.300598</td>\n",
       "    </tr>\n",
       "    <tr>\n",
       "      <th>Poppy Farnan</th>\n",
       "      <td>1</td>\n",
       "      <td>False</td>\n",
       "      <td>22</td>\n",
       "      <td>66</td>\n",
       "      <td>32</td>\n",
       "      <td>False</td>\n",
       "      <td>0.300598</td>\n",
       "    </tr>\n",
       "    <tr>\n",
       "      <th>Oliver Maxwell Fernandez</th>\n",
       "      <td>2</td>\n",
       "      <td>True</td>\n",
       "      <td>25</td>\n",
       "      <td>74</td>\n",
       "      <td>30</td>\n",
       "      <td>False</td>\n",
       "      <td>0.300598</td>\n",
       "    </tr>\n",
       "    <tr>\n",
       "      <th>Shannon Singh</th>\n",
       "      <td>7</td>\n",
       "      <td>False</td>\n",
       "      <td>22</td>\n",
       "      <td>68</td>\n",
       "      <td>1</td>\n",
       "      <td>False</td>\n",
       "      <td>0.300598</td>\n",
       "    </tr>\n",
       "  </tbody>\n",
       "</table>\n",
       "</div>"
      ],
      "text/plain": [
       "                          Season  Gender  Age  Height  Entered  Finalist  \\\n",
       "Name                                                                       \n",
       "Malia Arkian                   2   False   26      66        7     False   \n",
       "Ben Porter                     1    True   24      71       32     False   \n",
       "Poppy Farnan                   1   False   22      66       32     False   \n",
       "Oliver Maxwell Fernandez       2    True   25      74       30     False   \n",
       "Shannon Singh                  7   False   22      68        1     False   \n",
       "\n",
       "                           Loyalty  \n",
       "Name                                \n",
       "Malia Arkian              0.300598  \n",
       "Ben Porter                0.300598  \n",
       "Poppy Farnan              0.300598  \n",
       "Oliver Maxwell Fernandez  0.300598  \n",
       "Shannon Singh             0.300598  "
      ]
     },
     "execution_count": 9,
     "metadata": {},
     "output_type": "execute_result"
    }
   ],
   "source": [
    "model_data.head()"
   ]
  },
  {
   "cell_type": "code",
   "execution_count": 10,
   "metadata": {},
   "outputs": [
    {
     "name": "stdout",
     "output_type": "stream",
     "text": [
      "<class 'pandas.core.frame.DataFrame'>\n",
      "Index: 295 entries, Malia Arkian to Wes Nelson\n",
      "Data columns (total 7 columns):\n",
      " #   Column    Non-Null Count  Dtype  \n",
      "---  ------    --------------  -----  \n",
      " 0   Season    295 non-null    int64  \n",
      " 1   Gender    295 non-null    bool   \n",
      " 2   Age       295 non-null    int64  \n",
      " 3   Height    295 non-null    int64  \n",
      " 4   Entered   295 non-null    int64  \n",
      " 5   Finalist  295 non-null    bool   \n",
      " 6   Loyalty   295 non-null    float64\n",
      "dtypes: bool(2), float64(1), int64(4)\n",
      "memory usage: 14.4+ KB\n"
     ]
    }
   ],
   "source": [
    "model_data.info()"
   ]
  },
  {
   "cell_type": "code",
   "execution_count": 11,
   "metadata": {},
   "outputs": [
    {
     "data": {
      "text/plain": [
       "Text(0.5, 1.0, 'Feature Correlation with Finalist')"
      ]
     },
     "execution_count": 11,
     "metadata": {},
     "output_type": "execute_result"
    },
    {
     "data": {
      "image/png": "[encoded data removed]",
      "text/plain": [
       "<Figure size 640x480 with 2 Axes>"
      ]
     },
     "metadata": {},
     "output_type": "display_data"
    }
   ],
   "source": [
    "heatmap = sns.heatmap(model_data.corr()\n",
    "                      [['Finalist']].sort_values(by='Finalist', ascending=False), vmin=-1,\n",
    "                       vmax=1, annot=True, cmap='BrBG')\n",
    "heatmap.set_title('Feature Correlation with Finalist')"
   ]
  },
  {
   "cell_type": "markdown",
   "metadata": {},
   "source": [
    "### Split Data"
   ]
  },
  {
   "cell_type": "code",
   "execution_count": 12,
   "metadata": {},
   "outputs": [
    {
     "name": "stdout",
     "output_type": "stream",
     "text": [
      "Train Split:  (224, 6) | Validate Split:  (36, 6) | Test Split:  (35, 6)\n"
     ]
    }
   ],
   "source": [
    "x_train, y_train, x_validate, y_validate, x_test, y_test = train_val_test(model_data, 'Finalist') "
   ]
  },
  {
   "cell_type": "code",
   "execution_count": 13,
   "metadata": {},
   "outputs": [
    {
     "data": {
      "text/html": [
       "<div>\n",
       "<style scoped>\n",
       "    .dataframe tbody tr th:only-of-type {\n",
       "        vertical-align: middle;\n",
       "    }\n",
       "\n",
       "    .dataframe tbody tr th {\n",
       "        vertical-align: top;\n",
       "    }\n",
       "\n",
       "    .dataframe thead th {\n",
       "        text-align: right;\n",
       "    }\n",
       "</style>\n",
       "<table border=\"1\" class=\"dataframe\">\n",
       "  <thead>\n",
       "    <tr style=\"text-align: right;\">\n",
       "      <th></th>\n",
       "      <th>Season</th>\n",
       "      <th>Gender</th>\n",
       "      <th>Age</th>\n",
       "      <th>Height</th>\n",
       "      <th>Entered</th>\n",
       "      <th>Loyalty</th>\n",
       "    </tr>\n",
       "    <tr>\n",
       "      <th>Name</th>\n",
       "      <th></th>\n",
       "      <th></th>\n",
       "      <th></th>\n",
       "      <th></th>\n",
       "      <th></th>\n",
       "      <th></th>\n",
       "    </tr>\n",
       "  </thead>\n",
       "  <tbody>\n",
       "    <tr>\n",
       "      <th>Malia Arkian</th>\n",
       "      <td>2</td>\n",
       "      <td>False</td>\n",
       "      <td>26</td>\n",
       "      <td>66</td>\n",
       "      <td>7</td>\n",
       "      <td>0.300598</td>\n",
       "    </tr>\n",
       "    <tr>\n",
       "      <th>Ben Porter</th>\n",
       "      <td>1</td>\n",
       "      <td>True</td>\n",
       "      <td>24</td>\n",
       "      <td>71</td>\n",
       "      <td>32</td>\n",
       "      <td>0.300598</td>\n",
       "    </tr>\n",
       "    <tr>\n",
       "      <th>Poppy Farnan</th>\n",
       "      <td>1</td>\n",
       "      <td>False</td>\n",
       "      <td>22</td>\n",
       "      <td>66</td>\n",
       "      <td>32</td>\n",
       "      <td>0.300598</td>\n",
       "    </tr>\n",
       "    <tr>\n",
       "      <th>Oliver Maxwell Fernandez</th>\n",
       "      <td>2</td>\n",
       "      <td>True</td>\n",
       "      <td>25</td>\n",
       "      <td>74</td>\n",
       "      <td>30</td>\n",
       "      <td>0.300598</td>\n",
       "    </tr>\n",
       "    <tr>\n",
       "      <th>Shannon Singh</th>\n",
       "      <td>7</td>\n",
       "      <td>False</td>\n",
       "      <td>22</td>\n",
       "      <td>68</td>\n",
       "      <td>1</td>\n",
       "      <td>0.300598</td>\n",
       "    </tr>\n",
       "  </tbody>\n",
       "</table>\n",
       "</div>"
      ],
      "text/plain": [
       "                          Season  Gender  Age  Height  Entered   Loyalty\n",
       "Name                                                                    \n",
       "Malia Arkian                   2   False   26      66        7  0.300598\n",
       "Ben Porter                     1    True   24      71       32  0.300598\n",
       "Poppy Farnan                   1   False   22      66       32  0.300598\n",
       "Oliver Maxwell Fernandez       2    True   25      74       30  0.300598\n",
       "Shannon Singh                  7   False   22      68        1  0.300598"
      ]
     },
     "execution_count": 13,
     "metadata": {},
     "output_type": "execute_result"
    }
   ],
   "source": [
    "x_train.head()"
   ]
  },
  {
   "cell_type": "code",
   "execution_count": 14,
   "metadata": {},
   "outputs": [
    {
     "data": {
      "text/plain": [
       "Name\n",
       "Malia Arkian                False\n",
       "Ben Porter                  False\n",
       "Poppy Farnan                False\n",
       "Oliver Maxwell Fernandez    False\n",
       "Shannon Singh               False\n",
       "Name: Finalist, dtype: bool"
      ]
     },
     "execution_count": 14,
     "metadata": {},
     "output_type": "execute_result"
    }
   ],
   "source": [
    "y_train.head()"
   ]
  },
  {
   "cell_type": "markdown",
   "metadata": {},
   "source": [
    "## Modeling\n",
    "\n",
    "Produce a predictive model that outperforms a baseline in predicting the target variable - \"Finalist\"."
   ]
  },
  {
   "cell_type": "markdown",
   "metadata": {},
   "source": [
    "Models I will use include the following from the Scikit-Learn library:\n",
    "\n",
    "- Logistic Regression \n",
    "- KNN or k-Nearest Neighbors\n",
    "- Decision Tree \n",
    "- Random Forrest \n",
    "- Perceptron Artificial Neural Network"
   ]
  },
  {
   "cell_type": "markdown",
   "metadata": {},
   "source": [
    "## Establish Baseline\n",
    "I will use the acccuracy score from DummyClassifier as a baseline to compare other models against."
   ]
  },
  {
   "cell_type": "code",
   "execution_count": 15,
   "metadata": {},
   "outputs": [
    {
     "name": "stdout",
     "output_type": "stream",
     "text": [
      "0.7222222222222222\n"
     ]
    }
   ],
   "source": [
    "dummy = DummyClassifier(strategy='stratified', random_state=42)\n",
    "dummy.fit(x_train, y_train)\n",
    "y_pred = dummy.predict(x_validate)\n",
    "dc_accuracy = accuracy_score(y_pred, y_validate)\n",
    "\n",
    "print(dc_accuracy)"
   ]
  },
  {
   "cell_type": "markdown",
   "metadata": {},
   "source": [
    "Baseline accurancy score is .722 <br>\n",
    "If a model surpasses this on test data, we can assume that the model does have predictive power."
   ]
  },
  {
   "cell_type": "markdown",
   "metadata": {},
   "source": [
    "## Testing Different Models"
   ]
  },
  {
   "cell_type": "markdown",
   "metadata": {},
   "source": [
    "### LOGISTIC REGRESSION"
   ]
  },
  {
   "cell_type": "code",
   "execution_count": 16,
   "metadata": {},
   "outputs": [
    {
     "name": "stdout",
     "output_type": "stream",
     "text": [
      "0.7777777777777778\n"
     ]
    }
   ],
   "source": [
    "#Logistic Regression\n",
    "log_reg = LogisticRegression(random_state=42, max_iter=500)\n",
    "log_reg.fit(x_train, y_train)\n",
    "y_pred = log_reg.predict(x_validate)\n",
    "log_accuracy = accuracy_score(y_pred, y_validate)\n",
    "\n",
    "print(log_accuracy)"
   ]
  },
  {
   "cell_type": "markdown",
   "metadata": {},
   "source": [
    "### RANDOM FOREST"
   ]
  },
  {
   "cell_type": "code",
   "execution_count": 17,
   "metadata": {},
   "outputs": [
    {
     "name": "stdout",
     "output_type": "stream",
     "text": [
      "0.8611111111111112\n"
     ]
    }
   ],
   "source": [
    "#Random Forest\n",
    "random_forest = RandomForestClassifier(random_state=42)\n",
    "random_forest.fit(x_train, y_train)\n",
    "y_pred = random_forest.predict(x_validate)\n",
    "random_forest_accuracy = accuracy_score(y_pred, y_validate)\n",
    "\n",
    "print(random_forest_accuracy)"
   ]
  },
  {
   "cell_type": "markdown",
   "metadata": {},
   "source": [
    "### DECISION TREE"
   ]
  },
  {
   "cell_type": "code",
   "execution_count": 18,
   "metadata": {},
   "outputs": [
    {
     "name": "stdout",
     "output_type": "stream",
     "text": [
      "0.7777777777777778\n"
     ]
    }
   ],
   "source": [
    "#Decision Tree\n",
    "decision_tree = tree.DecisionTreeClassifier(random_state=42)\n",
    "decision_tree.fit(x_train,y_train)\n",
    "y_pred = decision_tree.predict(x_validate)\n",
    "decision_tree_accuracy = accuracy_score(y_pred, y_validate)\n",
    "\n",
    "print(decision_tree_accuracy)"
   ]
  },
  {
   "cell_type": "markdown",
   "metadata": {},
   "source": [
    "### PERCEPTRON"
   ]
  },
  {
   "cell_type": "code",
   "execution_count": 19,
   "metadata": {},
   "outputs": [
    {
     "name": "stdout",
     "output_type": "stream",
     "text": [
      "0.2222222222222222\n"
     ]
    }
   ],
   "source": [
    "#Perceptron\n",
    "perceptron = Perceptron(random_state=42)\n",
    "perceptron.fit(x_train, y_train)\n",
    "\n",
    "y_pred = perceptron.predict(x_validate)\n",
    "\n",
    "perceptron_accuracy = accuracy_score(y_pred, y_validate)\n",
    "\n",
    "print(perceptron_accuracy)"
   ]
  },
  {
   "cell_type": "markdown",
   "metadata": {},
   "source": [
    "### KNBEIGBOR"
   ]
  },
  {
   "cell_type": "code",
   "execution_count": 20,
   "metadata": {},
   "outputs": [
    {
     "name": "stdout",
     "output_type": "stream",
     "text": [
      "0.6388888888888888\n"
     ]
    }
   ],
   "source": [
    "#KNN\n",
    "knn = KNeighborsClassifier()\n",
    "knn.fit(x_train, y_train)\n",
    "y_pred = knn.predict(x_validate)\n",
    "knn_accuracy = accuracy_score(y_pred, y_validate)\n",
    "\n",
    "print(knn_accuracy)"
   ]
  },
  {
   "cell_type": "code",
   "execution_count": 21,
   "metadata": {},
   "outputs": [
    {
     "data": {
      "text/html": [
       "<div>\n",
       "<style scoped>\n",
       "    .dataframe tbody tr th:only-of-type {\n",
       "        vertical-align: middle;\n",
       "    }\n",
       "\n",
       "    .dataframe tbody tr th {\n",
       "        vertical-align: top;\n",
       "    }\n",
       "\n",
       "    .dataframe thead th {\n",
       "        text-align: right;\n",
       "    }\n",
       "</style>\n",
       "<table border=\"1\" class=\"dataframe\">\n",
       "  <thead>\n",
       "    <tr style=\"text-align: right;\">\n",
       "      <th></th>\n",
       "      <th>Model Type</th>\n",
       "    </tr>\n",
       "    <tr>\n",
       "      <th>Accuracy_Score</th>\n",
       "      <th></th>\n",
       "    </tr>\n",
       "  </thead>\n",
       "  <tbody>\n",
       "    <tr>\n",
       "      <th>0.861111</th>\n",
       "      <td>Random Forest</td>\n",
       "    </tr>\n",
       "    <tr>\n",
       "      <th>0.777778</th>\n",
       "      <td>Logistic Regression</td>\n",
       "    </tr>\n",
       "    <tr>\n",
       "      <th>0.777778</th>\n",
       "      <td>Decision Tree</td>\n",
       "    </tr>\n",
       "    <tr>\n",
       "      <th>0.722222</th>\n",
       "      <td>Dummy Classifier</td>\n",
       "    </tr>\n",
       "    <tr>\n",
       "      <th>0.638889</th>\n",
       "      <td>KNeightbors</td>\n",
       "    </tr>\n",
       "    <tr>\n",
       "      <th>0.222222</th>\n",
       "      <td>Perceptron</td>\n",
       "    </tr>\n",
       "  </tbody>\n",
       "</table>\n",
       "</div>"
      ],
      "text/plain": [
       "                         Model Type\n",
       "Accuracy_Score                     \n",
       "0.861111              Random Forest\n",
       "0.777778        Logistic Regression\n",
       "0.777778              Decision Tree\n",
       "0.722222           Dummy Classifier\n",
       "0.638889                KNeightbors\n",
       "0.222222                 Perceptron"
      ]
     },
     "execution_count": 21,
     "metadata": {},
     "output_type": "execute_result"
    }
   ],
   "source": [
    "# Rank models accuracy score\n",
    "ranking = pd.DataFrame({\n",
    "    'Model Type': ['Dummy Classifier', 'Logistic Regression', 'Random Forest', 'Decision Tree', 'Perceptron', 'KNeightbors'],\n",
    "    'Accuracy_Score': [dc_accuracy, log_accuracy, random_forest_accuracy, decision_tree_accuracy, perceptron_accuracy, knn_accuracy]\n",
    "})\n",
    "\n",
    "ranking_df = ranking.sort_values(by='Accuracy_Score', ascending=False)\n",
    "ranking_df = ranking_df.set_index('Accuracy_Score')\n",
    "ranking_df.head(6)"
   ]
  },
  {
   "cell_type": "markdown",
   "metadata": {},
   "source": [
    "Random Forest performs the best on train/validation data split\n",
    "- I will now perform cross validation using random forest to view performance on multiple folds of data."
   ]
  },
  {
   "cell_type": "code",
   "execution_count": 22,
   "metadata": {},
   "outputs": [
    {
     "name": "stdout",
     "output_type": "stream",
     "text": [
      "Scores: [0.73913043 0.73913043 0.82608696 0.82608696 0.86363636 0.77272727\n",
      " 0.63636364 0.72727273 0.81818182 0.5       ]\n",
      "Mean: 0.7448616600790514\n",
      "Standard Deviation: 0.10274190181853268\n"
     ]
    }
   ],
   "source": [
    "# Random Forest Cross Validation\n",
    "from sklearn.model_selection import cross_val_score\n",
    "rf = RandomForestClassifier(n_estimators=100)\n",
    "scores = cross_val_score(rf, x_train, y_train, cv=10, scoring = \"accuracy\")\n",
    "print(\"Scores:\", scores)\n",
    "print(\"Mean:\", scores.mean())\n",
    "print(\"Standard Deviation:\", scores.std())"
   ]
  },
  {
   "cell_type": "markdown",
   "metadata": {},
   "source": [
    "Above it shows average model accuracy using 10 folds and the standard deviation which shows the variance in accuracy scores between the folds. <br>\n",
    "These results are not as strong as the random state initially used, but will hopefully this model will provide predictive power when used on the test data. "
   ]
  },
  {
   "cell_type": "code",
   "execution_count": 23,
   "metadata": {},
   "outputs": [
    {
     "data": {
      "text/html": [
       "<div>\n",
       "<style scoped>\n",
       "    .dataframe tbody tr th:only-of-type {\n",
       "        vertical-align: middle;\n",
       "    }\n",
       "\n",
       "    .dataframe tbody tr th {\n",
       "        vertical-align: top;\n",
       "    }\n",
       "\n",
       "    .dataframe thead th {\n",
       "        text-align: right;\n",
       "    }\n",
       "</style>\n",
       "<table border=\"1\" class=\"dataframe\">\n",
       "  <thead>\n",
       "    <tr style=\"text-align: right;\">\n",
       "      <th></th>\n",
       "      <th>importance</th>\n",
       "    </tr>\n",
       "    <tr>\n",
       "      <th>feature</th>\n",
       "      <th></th>\n",
       "    </tr>\n",
       "  </thead>\n",
       "  <tbody>\n",
       "    <tr>\n",
       "      <th>Loyalty</th>\n",
       "      <td>0.461</td>\n",
       "    </tr>\n",
       "    <tr>\n",
       "      <th>Entered</th>\n",
       "      <td>0.158</td>\n",
       "    </tr>\n",
       "    <tr>\n",
       "      <th>Height</th>\n",
       "      <td>0.153</td>\n",
       "    </tr>\n",
       "    <tr>\n",
       "      <th>Age</th>\n",
       "      <td>0.114</td>\n",
       "    </tr>\n",
       "    <tr>\n",
       "      <th>Season</th>\n",
       "      <td>0.092</td>\n",
       "    </tr>\n",
       "    <tr>\n",
       "      <th>Gender</th>\n",
       "      <td>0.023</td>\n",
       "    </tr>\n",
       "  </tbody>\n",
       "</table>\n",
       "</div>"
      ],
      "text/plain": [
       "         importance\n",
       "feature            \n",
       "Loyalty       0.461\n",
       "Entered       0.158\n",
       "Height        0.153\n",
       "Age           0.114\n",
       "Season        0.092\n",
       "Gender        0.023"
      ]
     },
     "execution_count": 23,
     "metadata": {},
     "output_type": "execute_result"
    }
   ],
   "source": [
    "# ranking importance of features for model when using random forest\n",
    "importances = pd.DataFrame({'feature':x_train.columns,'importance':np.round(random_forest.feature_importances_,3)})\n",
    "importances = importances.sort_values('importance',ascending=False).set_index('feature')\n",
    "importances.head(15)"
   ]
  },
  {
   "cell_type": "markdown",
   "metadata": {},
   "source": [
    "Above I am ranking features by how impactful they are within the random forest model. <br>\n",
    "Gender is not impactful by itself, but will help the model to contextualize height and age for contestants. <br>\n",
    "Loyalty is heavily weighted, in future iterations of the model, I may rethink how I dealt with loyalty score paramater tuning. <br>"
   ]
  },
  {
   "cell_type": "markdown",
   "metadata": {},
   "source": [
    "## Test Data"
   ]
  },
  {
   "cell_type": "markdown",
   "metadata": {},
   "source": [
    "Now I will check how random forest performs on the test data."
   ]
  },
  {
   "cell_type": "code",
   "execution_count": 24,
   "metadata": {},
   "outputs": [
    {
     "name": "stdout",
     "output_type": "stream",
     "text": [
      "0.7714285714285715\n"
     ]
    }
   ],
   "source": [
    "#Random Forest\n",
    "random_forest_test = RandomForestClassifier(random_state=42)\n",
    "random_forest_test.fit(x_train, y_train)\n",
    "y_pred = random_forest_test.predict(x_test)\n",
    "random_forest_test_accuracy = accuracy_score(y_pred, y_test)\n",
    "\n",
    "print(random_forest_test_accuracy)"
   ]
  },
  {
   "cell_type": "markdown",
   "metadata": {},
   "source": [
    "Accuracy score of .771 on using Random Forest on the test data is in line with the average accuracy score .745 in the cross validation - meaning the model performs similarly in both instances.<br>\n",
    "This score also outperforms the benchmark test using DummyClassifier, meaning that using the Random Forest Classifier we can predict which candidates are most likely to be finalists on Love Island."
   ]
  }
 ],
 "metadata": {
  "kernelspec": {
   "display_name": "lenv",
   "language": "python",
   "name": "python3"
  },
  "language_info": {
   "codemirror_mode": {
    "name": "ipython",
    "version": 3
   },
   "file_extension": ".py",
   "mimetype": "text/x-python",
   "name": "python",
   "nbconvert_exporter": "python",
   "pygments_lexer": "ipython3",
   "version": "3.10.12"
  },
  "orig_nbformat": 4
 },
 "nbformat": 4,
 "nbformat_minor": 2
}
