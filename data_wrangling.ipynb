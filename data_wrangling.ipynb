{
 "cells": [
  {
   "cell_type": "markdown",
   "metadata": {},
   "source": [
    "# Data Wrangling\n",
    "***********\n",
    "The initial data set (li_dirtydata.csv) was gathered and structured manually using Microsoft Excel. To provide context for the origin of this dataset, I have outlined the work completed outside of this repository below.\n",
    "\n",
    "<br>\n",
    "\n",
    "Utilized Power Query to import data tables for seasons 1-9 from Love Island Wiki.\n",
    "- Imported table columns: Name, Age, Hometown, Day Entered, Status.  \n",
    "\n",
    "<br>\n",
    "\n",
    "Inserted a new column \"Season\" for each table to identify the season of each contestant appeared on.  \n",
    "- Combined the data from all seasons into one table.  \n",
    "\n",
    "<br>\n",
    "\n",
    "Text to Columns feature to seperate data and form new columns: \n",
    "- Hometown split into Hometown and Region.\n",
    "- Status split into Status and Day Dumped. \n",
    "\n",
    "<br>\n",
    "\n",
    "Find and Replace feature to format and clean data:\n",
    "- Removed blank spaces from cells for consistency.\n",
    "- Removed non-integers from Day Entered and Day Dumped columns.\n",
    "- Normalized names containing accented characters to regular English characters for compatibility with pandas dataframes.\n",
    "\n",
    "<br>\n",
    "\n",
    "Manually created and gathered data for following columns: \n",
    "- Height, Hair Color, Eye Color, Ethnicity, Length of Stay, Original Cast, Casa Amor Entry, Unique Partners, and Finalist.\n",
    "\n",
    "<br>\n",
    "The resulting CSV file contains all historical data on Love Island contestants. \n",
    "\n",
    "Please refer to the [Data Dictionary](linktoDataDictionary) for detailed descriptions of each data field and access to the data sources.\n",
    "\n",
    "**********"
   ]
  },
  {
   "cell_type": "markdown",
   "metadata": {},
   "source": [
    "### Import Data"
   ]
  },
  {
   "cell_type": "code",
   "execution_count": null,
   "metadata": {},
   "outputs": [],
   "source": [
    "import pandas as pd"
   ]
  },
  {
   "cell_type": "code",
   "execution_count": null,
   "metadata": {},
   "outputs": [],
   "source": [
    "import os\n",
    "cwd = os.getcwd()"
   ]
  },
  {
   "cell_type": "code",
   "execution_count": null,
   "metadata": {},
   "outputs": [],
   "source": [
    "data = pd.read_csv(cwd +'/data/li_dirtydata.csv')"
   ]
  },
  {
   "cell_type": "code",
   "execution_count": null,
   "metadata": {},
   "outputs": [],
   "source": [
    "data.head()"
   ]
  },
  {
   "cell_type": "markdown",
   "metadata": {},
   "source": [
    "### Check for duplicates"
   ]
  },
  {
   "cell_type": "code",
   "execution_count": null,
   "metadata": {},
   "outputs": [],
   "source": [
    "duplicates = data[data.duplicated('Name', False)]\n",
    "\n",
    "duplicates"
   ]
  },
  {
   "cell_type": "markdown",
   "metadata": {},
   "source": [
    "Per the output in the cell above, Adam Collard appeared on the show in two seperate seasons. I will retain both of his stays in the villa for this data set. <br>\n",
    "Apart from this special case, there are no duplicates in our data. "
   ]
  },
  {
   "cell_type": "markdown",
   "metadata": {},
   "source": [
    "### Missing Values "
   ]
  },
  {
   "cell_type": "code",
   "execution_count": null,
   "metadata": {},
   "outputs": [],
   "source": [
    "#Sample of Season 1 and 2 columns, showing Casa Amor Addition as \"Null\"\n",
    "no_casa = data[data[\"Casa Amor Addition\"].isin(['Null'])]\n",
    "\n",
    "no_casa.head()"
   ]
  },
  {
   "cell_type": "markdown",
   "metadata": {},
   "source": [
    "Another noteworthy point is that Casa Amor was not introduced until Season 3 of the show. <br>\n",
    "As shown above, Season 1 and 2 contestants have 'Null' as their Casa Amor Addition value. <br>\n",
    "I will replace 'Null' with 'No' for consistency."
   ]
  },
  {
   "cell_type": "code",
   "execution_count": null,
   "metadata": {},
   "outputs": [],
   "source": [
    "data['Casa Amor Addition'] = data['Casa Amor Addition'].replace('Null', 'No')"
   ]
  },
  {
   "cell_type": "markdown",
   "metadata": {},
   "source": [
    "### Status Column Edge Cases"
   ]
  },
  {
   "cell_type": "code",
   "execution_count": null,
   "metadata": {},
   "outputs": [],
   "source": [
    "#Create new dataframe where Status column values are not our desired values\n",
    "status_check = data[~data['Status'].isin(['1','2','3','4','Dumped'])]\n",
    "\n",
    "status_check"
   ]
  },
  {
   "cell_type": "markdown",
   "metadata": {},
   "source": [
    "The contestants shown above had values 'Walked' or 'Removed' in their \"Status\" column. <br>\n",
    "'Walked' indicates the contestant decided to leave the villa, while 'Removed' indicates the candidate was cut from the show by producers. <br>\n",
    "I am going to replace these values to 'Dumped' for consistency. This will ensure that contestants who did not make it to the finale are all identified by the same value in the \"Status\" column."
   ]
  },
  {
   "cell_type": "code",
   "execution_count": null,
   "metadata": {},
   "outputs": [],
   "source": [
    "data['Status'] = data['Status'].replace('Walked', 'Dumped')\n",
    "data['Status'] = data['Status'].replace('Removed', 'Dumped')"
   ]
  },
  {
   "cell_type": "markdown",
   "metadata": {},
   "source": [
    "### Column Names"
   ]
  },
  {
   "cell_type": "markdown",
   "metadata": {},
   "source": [
    "When creating this dataset in excel, I was explicit in naming columns for sake of clarity. <br>\n",
    "Column names are shortened/simpified below for ease of use in analysis/processing/modeling."
   ]
  },
  {
   "cell_type": "code",
   "execution_count": null,
   "metadata": {},
   "outputs": [],
   "source": [
    "#Create dictionary of new columns names\n",
    "new_columns = {'Hair Color': 'Hair',\n",
    "               'Eye Color': 'Eye',\n",
    "               'Day Entered': 'Entered',\n",
    "               'Day Dumped': 'Dumped',\n",
    "               'Length Of Stay': 'Stay',\n",
    "               'Original Cast': 'OG',\n",
    "               'Casa Amor Addition': 'Casa',\n",
    "               'Unique Partners': 'Couples'}\n",
    "\n",
    "#Rename columns specified in dictionary above\n",
    "data = data.rename(columns=new_columns)"
   ]
  },
  {
   "cell_type": "code",
   "execution_count": null,
   "metadata": {},
   "outputs": [],
   "source": [
    "#Export new data to csv\n",
    "data.to_csv(cwd + '/data/li_cleandata.csv', index=False)"
   ]
  },
  {
   "cell_type": "code",
   "execution_count": null,
   "metadata": {},
   "outputs": [],
   "source": [
    "#Check new csv file\n",
    "check = pd.read_csv(cwd + '/data/li_cleandata.csv')\n",
    "\n",
    "check.head()"
   ]
  },
  {
   "cell_type": "markdown",
   "metadata": {},
   "source": [
    "Now that the data wrangling and cleaning are completed, I can save the revised dataset and move onto the EDA notebook."
   ]
  }
 ],
 "metadata": {
  "kernelspec": {
   "display_name": "lenv",
   "language": "python",
   "name": "python3"
  },
  "language_info": {
   "codemirror_mode": {
    "name": "ipython",
    "version": 3
   },
   "file_extension": ".py",
   "mimetype": "text/x-python",
   "name": "python",
   "nbconvert_exporter": "python",
   "pygments_lexer": "ipython3",
   "version": "3.10.6"
  },
  "orig_nbformat": 4
 },
 "nbformat": 4,
 "nbformat_minor": 2
}
