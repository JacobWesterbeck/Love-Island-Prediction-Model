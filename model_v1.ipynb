{
 "cells": [
  {
   "cell_type": "markdown",
   "metadata": {},
   "source": [
    "### Predictive Modeling"
   ]
  },
  {
   "cell_type": "markdown",
   "metadata": {},
   "source": [
    "Modeling Notebook Outline:\n",
    "1.\n",
    "2.\n",
    "3."
   ]
  },
  {
   "cell_type": "code",
   "execution_count": 1,
   "metadata": {},
   "outputs": [],
   "source": [
    "#Import packages\n",
    "import pandas as pd\n",
    "import numpy as np\n",
    "import seaborn as sns"
   ]
  },
  {
   "cell_type": "code",
   "execution_count": 2,
   "metadata": {},
   "outputs": [],
   "source": [
    "#Import function from preprocessing\n",
    "from data_preprocessing import train_val_test"
   ]
  },
  {
   "cell_type": "code",
   "execution_count": 3,
   "metadata": {},
   "outputs": [],
   "source": [
    "#Import packges for modeling\n",
    "from sklearn.dummy import DummyClassifier\n",
    "from sklearn.linear_model import LogisticRegression\n",
    "from sklearn.ensemble import RandomForestClassifier\n",
    "from sklearn import tree\n",
    "from sklearn.linear_model import Perceptron\n",
    "from sklearn.neighbors import KNeighborsClassifier\n",
    "from sklearn.metrics import accuracy_score"
   ]
  },
  {
   "cell_type": "code",
   "execution_count": 4,
   "metadata": {},
   "outputs": [],
   "source": [
    "import os\n",
    "cwd = os.getcwd()"
   ]
  },
  {
   "cell_type": "code",
   "execution_count": 5,
   "metadata": {},
   "outputs": [],
   "source": [
    "model_data = pd.read_csv(cwd + '/data/model_data.csv', index_col=0)"
   ]
  },
  {
   "cell_type": "code",
   "execution_count": 6,
   "metadata": {},
   "outputs": [
    {
     "data": {
      "text/html": [
       "<div>\n",
       "<style scoped>\n",
       "    .dataframe tbody tr th:only-of-type {\n",
       "        vertical-align: middle;\n",
       "    }\n",
       "\n",
       "    .dataframe tbody tr th {\n",
       "        vertical-align: top;\n",
       "    }\n",
       "\n",
       "    .dataframe thead th {\n",
       "        text-align: right;\n",
       "    }\n",
       "</style>\n",
       "<table border=\"1\" class=\"dataframe\">\n",
       "  <thead>\n",
       "    <tr style=\"text-align: right;\">\n",
       "      <th></th>\n",
       "      <th>Season</th>\n",
       "      <th>Gender</th>\n",
       "      <th>Age</th>\n",
       "      <th>Height</th>\n",
       "      <th>Entered</th>\n",
       "      <th>Finalist</th>\n",
       "      <th>Loyalty</th>\n",
       "      <th>Ireland</th>\n",
       "      <th>Islands</th>\n",
       "      <th>Midlands</th>\n",
       "      <th>NFR</th>\n",
       "      <th>North</th>\n",
       "      <th>Scotland</th>\n",
       "      <th>South</th>\n",
       "      <th>Wales</th>\n",
       "    </tr>\n",
       "    <tr>\n",
       "      <th>Name</th>\n",
       "      <th></th>\n",
       "      <th></th>\n",
       "      <th></th>\n",
       "      <th></th>\n",
       "      <th></th>\n",
       "      <th></th>\n",
       "      <th></th>\n",
       "      <th></th>\n",
       "      <th></th>\n",
       "      <th></th>\n",
       "      <th></th>\n",
       "      <th></th>\n",
       "      <th></th>\n",
       "      <th></th>\n",
       "      <th></th>\n",
       "    </tr>\n",
       "  </thead>\n",
       "  <tbody>\n",
       "    <tr>\n",
       "      <th>Malia Arkian</th>\n",
       "      <td>2</td>\n",
       "      <td>False</td>\n",
       "      <td>26</td>\n",
       "      <td>66</td>\n",
       "      <td>7</td>\n",
       "      <td>False</td>\n",
       "      <td>0.300598</td>\n",
       "      <td>False</td>\n",
       "      <td>False</td>\n",
       "      <td>True</td>\n",
       "      <td>False</td>\n",
       "      <td>False</td>\n",
       "      <td>False</td>\n",
       "      <td>False</td>\n",
       "      <td>False</td>\n",
       "    </tr>\n",
       "    <tr>\n",
       "      <th>Ben Porter</th>\n",
       "      <td>1</td>\n",
       "      <td>True</td>\n",
       "      <td>24</td>\n",
       "      <td>71</td>\n",
       "      <td>32</td>\n",
       "      <td>False</td>\n",
       "      <td>0.300598</td>\n",
       "      <td>False</td>\n",
       "      <td>False</td>\n",
       "      <td>False</td>\n",
       "      <td>False</td>\n",
       "      <td>True</td>\n",
       "      <td>False</td>\n",
       "      <td>False</td>\n",
       "      <td>False</td>\n",
       "    </tr>\n",
       "    <tr>\n",
       "      <th>Poppy Farnan</th>\n",
       "      <td>1</td>\n",
       "      <td>False</td>\n",
       "      <td>22</td>\n",
       "      <td>66</td>\n",
       "      <td>32</td>\n",
       "      <td>False</td>\n",
       "      <td>0.300598</td>\n",
       "      <td>False</td>\n",
       "      <td>False</td>\n",
       "      <td>False</td>\n",
       "      <td>False</td>\n",
       "      <td>False</td>\n",
       "      <td>False</td>\n",
       "      <td>True</td>\n",
       "      <td>False</td>\n",
       "    </tr>\n",
       "    <tr>\n",
       "      <th>Oliver Maxwell Fernandez</th>\n",
       "      <td>2</td>\n",
       "      <td>True</td>\n",
       "      <td>25</td>\n",
       "      <td>74</td>\n",
       "      <td>30</td>\n",
       "      <td>False</td>\n",
       "      <td>0.300598</td>\n",
       "      <td>False</td>\n",
       "      <td>False</td>\n",
       "      <td>False</td>\n",
       "      <td>False</td>\n",
       "      <td>False</td>\n",
       "      <td>False</td>\n",
       "      <td>True</td>\n",
       "      <td>False</td>\n",
       "    </tr>\n",
       "    <tr>\n",
       "      <th>Shannon Singh</th>\n",
       "      <td>7</td>\n",
       "      <td>False</td>\n",
       "      <td>22</td>\n",
       "      <td>68</td>\n",
       "      <td>1</td>\n",
       "      <td>False</td>\n",
       "      <td>0.300598</td>\n",
       "      <td>False</td>\n",
       "      <td>False</td>\n",
       "      <td>False</td>\n",
       "      <td>False</td>\n",
       "      <td>False</td>\n",
       "      <td>True</td>\n",
       "      <td>False</td>\n",
       "      <td>False</td>\n",
       "    </tr>\n",
       "  </tbody>\n",
       "</table>\n",
       "</div>"
      ],
      "text/plain": [
       "                          Season  Gender  Age  Height  Entered  Finalist  \\\n",
       "Name                                                                       \n",
       "Malia Arkian                   2   False   26      66        7     False   \n",
       "Ben Porter                     1    True   24      71       32     False   \n",
       "Poppy Farnan                   1   False   22      66       32     False   \n",
       "Oliver Maxwell Fernandez       2    True   25      74       30     False   \n",
       "Shannon Singh                  7   False   22      68        1     False   \n",
       "\n",
       "                           Loyalty  Ireland  Islands  Midlands    NFR  North  \\\n",
       "Name                                                                           \n",
       "Malia Arkian              0.300598    False    False      True  False  False   \n",
       "Ben Porter                0.300598    False    False     False  False   True   \n",
       "Poppy Farnan              0.300598    False    False     False  False  False   \n",
       "Oliver Maxwell Fernandez  0.300598    False    False     False  False  False   \n",
       "Shannon Singh             0.300598    False    False     False  False  False   \n",
       "\n",
       "                          Scotland  South  Wales  \n",
       "Name                                              \n",
       "Malia Arkian                 False  False  False  \n",
       "Ben Porter                   False  False  False  \n",
       "Poppy Farnan                 False   True  False  \n",
       "Oliver Maxwell Fernandez     False   True  False  \n",
       "Shannon Singh                 True  False  False  "
      ]
     },
     "execution_count": 6,
     "metadata": {},
     "output_type": "execute_result"
    }
   ],
   "source": [
    "model_data.head()"
   ]
  },
  {
   "cell_type": "code",
   "execution_count": 7,
   "metadata": {},
   "outputs": [
    {
     "name": "stdout",
     "output_type": "stream",
     "text": [
      "<class 'pandas.core.frame.DataFrame'>\n",
      "Index: 295 entries, Malia Arkian to Wes Nelson\n",
      "Data columns (total 15 columns):\n",
      " #   Column    Non-Null Count  Dtype  \n",
      "---  ------    --------------  -----  \n",
      " 0   Season    295 non-null    int64  \n",
      " 1   Gender    295 non-null    bool   \n",
      " 2   Age       295 non-null    int64  \n",
      " 3   Height    295 non-null    int64  \n",
      " 4   Entered   295 non-null    int64  \n",
      " 5   Finalist  295 non-null    bool   \n",
      " 6   Loyalty   295 non-null    float64\n",
      " 7   Ireland   295 non-null    bool   \n",
      " 8   Islands   295 non-null    bool   \n",
      " 9   Midlands  295 non-null    bool   \n",
      " 10  NFR       295 non-null    bool   \n",
      " 11  North     295 non-null    bool   \n",
      " 12  Scotland  295 non-null    bool   \n",
      " 13  South     295 non-null    bool   \n",
      " 14  Wales     295 non-null    bool   \n",
      "dtypes: bool(10), float64(1), int64(4)\n",
      "memory usage: 16.7+ KB\n"
     ]
    }
   ],
   "source": [
    "model_data.info()"
   ]
  },
  {
   "cell_type": "code",
   "execution_count": 8,
   "metadata": {},
   "outputs": [
    {
     "data": {
      "text/plain": [
       "Text(0.5, 1.0, 'Feature Correlation with Finalist')"
      ]
     },
     "execution_count": 8,
     "metadata": {},
     "output_type": "execute_result"
    },
    {
     "data": {
      "image/png": "[encoded data removed]",
      "text/plain": [
       "<Figure size 640x480 with 2 Axes>"
      ]
     },
     "metadata": {},
     "output_type": "display_data"
    }
   ],
   "source": [
    "heatmap = sns.heatmap(model_data.corr()\n",
    "                      [['Finalist']].sort_values(by='Finalist', ascending=False), vmin=-1,\n",
    "                       vmax=1, annot=True, cmap='BrBG')\n",
    "heatmap.set_title('Feature Correlation with Finalist')"
   ]
  },
  {
   "cell_type": "markdown",
   "metadata": {},
   "source": [
    "Loyalty and Entered are negatively correlated with being a finalist.\n",
    "- The earlier you enter, and the lower your loyalty score(more loyal) gives a higher chance of reaching the finale.\n",
    "\n",
    "I know from analyis that height and age should be more expressive than shown here.\n",
    "\n",
    "Based on what I see here, a regression model may not perform as well as other types of models (ie decision tree) unless i am able to account for an interaction between gender and height/age\n",
    "\n",
    "Will have to set interaction terms to accurately reflect outcome in a linear model - - - - \n",
    "https://developer.nvidia.com/blog/a-comprehensive-guide-to-interaction-terms-in-linear-regression/#:~:text=By%20using%20interaction%20terms%2C%20you,data%20and%20better%20predictive%20performance."
   ]
  },
  {
   "cell_type": "markdown",
   "metadata": {},
   "source": [
    "Interaction Terms - Do any of my features affect the outcome of another feature?\n",
    "- Height: interacts with gender, I need to make sure that when the model looks at a contestants height, it takes into account their gender to  determine how height affects the prediction\n",
    "- Age: interacts with gender, Age has a different effect on men vs women on the outcome\n",
    "\n",
    "So really, Gender  has no effect on outcome by itself, there will be 4 winners of each gender on any given season\n",
    "- Gender does, however, have an effect on how height and age will be interpreted by the model,  so i need to set interaction terms between height/age and gender"
   ]
  },
  {
   "cell_type": "markdown",
   "metadata": {},
   "source": [
    "### Use my imported datasplit function"
   ]
  },
  {
   "cell_type": "code",
   "execution_count": 9,
   "metadata": {},
   "outputs": [
    {
     "name": "stdout",
     "output_type": "stream",
     "text": [
      "Train Split:  (224, 14) | Validate Split:  (36, 14) | Test Split:  (35, 14)\n"
     ]
    }
   ],
   "source": [
    "x_train, y_train, x_validate, y_validate, x_test, y_test = train_val_test(model_data, 'Finalist') "
   ]
  },
  {
   "cell_type": "code",
   "execution_count": null,
   "metadata": {},
   "outputs": [],
   "source": [
    "#Create a for loop to set season to an index for all of these sets of data"
   ]
  },
  {
   "cell_type": "code",
   "execution_count": 10,
   "metadata": {},
   "outputs": [
    {
     "data": {
      "text/html": [
       "<div>\n",
       "<style scoped>\n",
       "    .dataframe tbody tr th:only-of-type {\n",
       "        vertical-align: middle;\n",
       "    }\n",
       "\n",
       "    .dataframe tbody tr th {\n",
       "        vertical-align: top;\n",
       "    }\n",
       "\n",
       "    .dataframe thead th {\n",
       "        text-align: right;\n",
       "    }\n",
       "</style>\n",
       "<table border=\"1\" class=\"dataframe\">\n",
       "  <thead>\n",
       "    <tr style=\"text-align: right;\">\n",
       "      <th></th>\n",
       "      <th>Season</th>\n",
       "      <th>Gender</th>\n",
       "      <th>Age</th>\n",
       "      <th>Height</th>\n",
       "      <th>Entered</th>\n",
       "      <th>Loyalty</th>\n",
       "      <th>Ireland</th>\n",
       "      <th>Islands</th>\n",
       "      <th>Midlands</th>\n",
       "      <th>NFR</th>\n",
       "      <th>North</th>\n",
       "      <th>Scotland</th>\n",
       "      <th>South</th>\n",
       "      <th>Wales</th>\n",
       "    </tr>\n",
       "    <tr>\n",
       "      <th>Name</th>\n",
       "      <th></th>\n",
       "      <th></th>\n",
       "      <th></th>\n",
       "      <th></th>\n",
       "      <th></th>\n",
       "      <th></th>\n",
       "      <th></th>\n",
       "      <th></th>\n",
       "      <th></th>\n",
       "      <th></th>\n",
       "      <th></th>\n",
       "      <th></th>\n",
       "      <th></th>\n",
       "      <th></th>\n",
       "    </tr>\n",
       "  </thead>\n",
       "  <tbody>\n",
       "    <tr>\n",
       "      <th>Malia Arkian</th>\n",
       "      <td>2</td>\n",
       "      <td>False</td>\n",
       "      <td>26</td>\n",
       "      <td>66</td>\n",
       "      <td>7</td>\n",
       "      <td>0.300598</td>\n",
       "      <td>False</td>\n",
       "      <td>False</td>\n",
       "      <td>True</td>\n",
       "      <td>False</td>\n",
       "      <td>False</td>\n",
       "      <td>False</td>\n",
       "      <td>False</td>\n",
       "      <td>False</td>\n",
       "    </tr>\n",
       "    <tr>\n",
       "      <th>Ben Porter</th>\n",
       "      <td>1</td>\n",
       "      <td>True</td>\n",
       "      <td>24</td>\n",
       "      <td>71</td>\n",
       "      <td>32</td>\n",
       "      <td>0.300598</td>\n",
       "      <td>False</td>\n",
       "      <td>False</td>\n",
       "      <td>False</td>\n",
       "      <td>False</td>\n",
       "      <td>True</td>\n",
       "      <td>False</td>\n",
       "      <td>False</td>\n",
       "      <td>False</td>\n",
       "    </tr>\n",
       "    <tr>\n",
       "      <th>Poppy Farnan</th>\n",
       "      <td>1</td>\n",
       "      <td>False</td>\n",
       "      <td>22</td>\n",
       "      <td>66</td>\n",
       "      <td>32</td>\n",
       "      <td>0.300598</td>\n",
       "      <td>False</td>\n",
       "      <td>False</td>\n",
       "      <td>False</td>\n",
       "      <td>False</td>\n",
       "      <td>False</td>\n",
       "      <td>False</td>\n",
       "      <td>True</td>\n",
       "      <td>False</td>\n",
       "    </tr>\n",
       "    <tr>\n",
       "      <th>Oliver Maxwell Fernandez</th>\n",
       "      <td>2</td>\n",
       "      <td>True</td>\n",
       "      <td>25</td>\n",
       "      <td>74</td>\n",
       "      <td>30</td>\n",
       "      <td>0.300598</td>\n",
       "      <td>False</td>\n",
       "      <td>False</td>\n",
       "      <td>False</td>\n",
       "      <td>False</td>\n",
       "      <td>False</td>\n",
       "      <td>False</td>\n",
       "      <td>True</td>\n",
       "      <td>False</td>\n",
       "    </tr>\n",
       "    <tr>\n",
       "      <th>Shannon Singh</th>\n",
       "      <td>7</td>\n",
       "      <td>False</td>\n",
       "      <td>22</td>\n",
       "      <td>68</td>\n",
       "      <td>1</td>\n",
       "      <td>0.300598</td>\n",
       "      <td>False</td>\n",
       "      <td>False</td>\n",
       "      <td>False</td>\n",
       "      <td>False</td>\n",
       "      <td>False</td>\n",
       "      <td>True</td>\n",
       "      <td>False</td>\n",
       "      <td>False</td>\n",
       "    </tr>\n",
       "  </tbody>\n",
       "</table>\n",
       "</div>"
      ],
      "text/plain": [
       "                          Season  Gender  Age  Height  Entered   Loyalty  \\\n",
       "Name                                                                       \n",
       "Malia Arkian                   2   False   26      66        7  0.300598   \n",
       "Ben Porter                     1    True   24      71       32  0.300598   \n",
       "Poppy Farnan                   1   False   22      66       32  0.300598   \n",
       "Oliver Maxwell Fernandez       2    True   25      74       30  0.300598   \n",
       "Shannon Singh                  7   False   22      68        1  0.300598   \n",
       "\n",
       "                          Ireland  Islands  Midlands    NFR  North  Scotland  \\\n",
       "Name                                                                           \n",
       "Malia Arkian                False    False      True  False  False     False   \n",
       "Ben Porter                  False    False     False  False   True     False   \n",
       "Poppy Farnan                False    False     False  False  False     False   \n",
       "Oliver Maxwell Fernandez    False    False     False  False  False     False   \n",
       "Shannon Singh               False    False     False  False  False      True   \n",
       "\n",
       "                          South  Wales  \n",
       "Name                                    \n",
       "Malia Arkian              False  False  \n",
       "Ben Porter                False  False  \n",
       "Poppy Farnan               True  False  \n",
       "Oliver Maxwell Fernandez   True  False  \n",
       "Shannon Singh             False  False  "
      ]
     },
     "execution_count": 10,
     "metadata": {},
     "output_type": "execute_result"
    }
   ],
   "source": [
    "x_train.head()"
   ]
  },
  {
   "cell_type": "code",
   "execution_count": 11,
   "metadata": {},
   "outputs": [
    {
     "data": {
      "text/plain": [
       "Name\n",
       "Malia Arkian                False\n",
       "Ben Porter                  False\n",
       "Poppy Farnan                False\n",
       "Oliver Maxwell Fernandez    False\n",
       "Shannon Singh               False\n",
       "Name: Finalist, dtype: bool"
      ]
     },
     "execution_count": 11,
     "metadata": {},
     "output_type": "execute_result"
    }
   ],
   "source": [
    "y_train.head()"
   ]
  },
  {
   "cell_type": "markdown",
   "metadata": {},
   "source": [
    "Seasons typically start with 11 islanders on episode 1. 5 initial couples and one bombshell. \n",
    "People are periodically added and they are usually 7  to 9 couples with 1 - 3 additional singles. Therefore there are roughly 15 - 21 contestants on at any given time. I am looking for the top 8 (4  from each gender)\n",
    "I am predicting the 8 most probable islanders to make finals. I can either take their score as is, or then match go a step further and evaluate current couples likelihood."
   ]
  },
  {
   "cell_type": "markdown",
   "metadata": {},
   "source": [
    "Model types i want to try\n",
    "\n",
    "logistic - https://medium.com/@ashishmishra2k19/logistic-regression-the-baseline-classification-model-explained-89915f5b13b2\n",
    "- has some drawbacks for my specific case - it assumes a linear relationship between features, is sensitive to outliers, and  cant automatically learn features  like tree based models\n",
    "- no need to scale features \n",
    "- Some features are not linearly correlated, but still are important indicators, so this may not be very accurate\n",
    "\n",
    "decison tree\n",
    "- better at dealing with features that dont have a strong linear correlation to target\n",
    "\n",
    "random forest\n",
    "- similar to decision tree"
   ]
  },
  {
   "cell_type": "markdown",
   "metadata": {},
   "source": [
    "### Modeling\n",
    "\n",
    "Produce a predictive model that outperforms baseline in predicting the  target variable - \"Finalist\"."
   ]
  },
  {
   "cell_type": "markdown",
   "metadata": {},
   "source": [
    "Ready to model the data. Goal of model is to identify the relationship between the target variable (Finalist or not) with the predictive variables in the data (Age, Height, Day Entered, etc..) using supervised learning. This is a classification and regression problem so some useful models to implement may include the following:\n",
    "\n",
    "- Logistic Regression \n",
    "- KNN or k-Nearest Neighbors\n",
    "- Support Vector Machines\n",
    "- Naive Bayes classifier\n",
    "- Decision Tree \n",
    "- Random Forrest \n",
    "- Perceptron Artificial neural network\n",
    "- RVM or Relevance Vector Machine"
   ]
  },
  {
   "cell_type": "markdown",
   "metadata": {},
   "source": [
    "Will have to split data into  dataframes and process slightly differently for some types of models"
   ]
  },
  {
   "cell_type": "markdown",
   "metadata": {},
   "source": [
    "# Baseline Model\n",
    "What is the simplest model I can think of?\n",
    "If I looked at the dataset and randomly selected who I thought were finalists, how well would I perform? <br>\n",
    "- n = 295 contestants\n",
    "- f = 72 finalists\n",
    "\n",
    "On average, how many finalists will i correctly pick if 72 are selected at random?"
   ]
  },
  {
   "cell_type": "code",
   "execution_count": 12,
   "metadata": {},
   "outputs": [
    {
     "name": "stdout",
     "output_type": "stream",
     "text": [
      "Correct predictions if Finalists were chosen as random: 17.572881355932203\n"
     ]
    }
   ],
   "source": [
    "#Formula for expected value baseline - sanity check \n",
    "n = 295\n",
    "f = 72\n",
    "expected_value = f * (f/n)\n",
    "\n",
    "print(f\"Correct predictions if Finalists were chosen as random: {expected_value}\")"
   ]
  },
  {
   "cell_type": "markdown",
   "metadata": {},
   "source": [
    "Therefore, my bare minimum threshold for a model is to correctly predict ~17.5 finalists correctly. <br>\n",
    "Any worse than this and my model performs worse than a blind pick."
   ]
  },
  {
   "cell_type": "code",
   "execution_count": 13,
   "metadata": {},
   "outputs": [
    {
     "name": "stdout",
     "output_type": "stream",
     "text": [
      "0.7222222222222222\n"
     ]
    }
   ],
   "source": [
    "## Use dummy classifer for another sanity check - just need to beat this metric \n",
    "dummy = DummyClassifier(strategy='stratified', random_state=42)\n",
    "dummy.fit(x_train, y_train)\n",
    "y_pred = dummy.predict(x_validate)\n",
    "dc_accuracy = accuracy_score(y_pred, y_validate)\n",
    "\n",
    "print(dc_accuracy)"
   ]
  },
  {
   "cell_type": "markdown",
   "metadata": {},
   "source": [
    "Let's step up the level of complexity and use a logistic regression model. <br>\n",
    "This can serve as a baseline that requires a higher level of accuracy for other models I implement."
   ]
  },
  {
   "cell_type": "markdown",
   "metadata": {},
   "source": [
    "#How to leave name column in so i know who is being predicted as Finalist? or just drop Name column? Below is how\n",
    "#https://stackoverflow.com/questions/57400005/reattach-id-column-to-data-after-passing-through-sklearn-model\n",
    "#https://stackoverflow.com/questions/48653977/ignore-a-column-while-learning-but-keep-it-for-later-reference-in-sklearn"
   ]
  },
  {
   "cell_type": "code",
   "execution_count": 38,
   "metadata": {},
   "outputs": [
    {
     "name": "stdout",
     "output_type": "stream",
     "text": [
      "0.8055555555555556\n"
     ]
    },
    {
     "name": "stderr",
     "output_type": "stream",
     "text": [
      "/usr/local/lib/python3.10/dist-packages/sklearn/linear_model/_logistic.py:460: ConvergenceWarning: lbfgs failed to converge (status=1):\n",
      "STOP: TOTAL NO. of ITERATIONS REACHED LIMIT.\n",
      "\n",
      "Increase the number of iterations (max_iter) or scale the data as shown in:\n",
      "    https://scikit-learn.org/stable/modules/preprocessing.html\n",
      "Please also refer to the documentation for alternative solver options:\n",
      "    https://scikit-learn.org/stable/modules/linear_model.html#logistic-regression\n",
      "  n_iter_i = _check_optimize_result(\n"
     ]
    }
   ],
   "source": [
    "#Logistic Regression - Likely wont be very well suited to this problem unless i scale the data and do some further feature engineering\n",
    "# Will have to do some feature engineering to account for feature interactions -- Interaction terms? patsy? no way for scikit to choose specific interactions\n",
    "# max_iter=422 is threshold to stop  error but this is easy way out --- I will look at scaling in future versions but for now i will just increase max_iter\n",
    "log_reg = LogisticRegression(random_state=42)\n",
    "log_reg.fit(x_train, y_train)\n",
    "y_pred = log_reg.predict(x_validate)\n",
    "log_accuracy = accuracy_score(y_pred, y_validate)\n",
    "\n",
    "print(log_accuracy)"
   ]
  },
  {
   "cell_type": "markdown",
   "metadata": {},
   "source": [
    "80% logreg accuracy seems kinda high - is there too much correlation?"
   ]
  },
  {
   "cell_type": "code",
   "execution_count": 15,
   "metadata": {},
   "outputs": [
    {
     "name": "stdout",
     "output_type": "stream",
     "text": [
      "0.8888888888888888\n"
     ]
    }
   ],
   "source": [
    "#Random Forest\n",
    "random_forest = RandomForestClassifier(random_state=42)\n",
    "random_forest.fit(x_train, y_train)\n",
    "y_pred = random_forest.predict(x_validate)\n",
    "random_forest_accuracy = accuracy_score(y_pred, y_validate)\n",
    "\n",
    "print(random_forest_accuracy)"
   ]
  },
  {
   "cell_type": "markdown",
   "metadata": {},
   "source": [
    "94% is amazing but could also raise some concerns... if this is real then great, but my guess is that there is some tuning that needs to be  done that may bring this down a bit. <br>\n",
    "Model is partly highly accuate because if ur loyalty score is 1 then ur WAY outside normal range and immediatly excluded.\n",
    "- number of people with loyalty score of 1 is (0 couples) is 62 -- 63/294 = 21% of contestants are automatically thrown out because of loyalty score. \n",
    "- sometimes new contestants will enter and have 0 couples, I need to effectivly check their probabiloty of winning without it being ruined by a loyalty score.\n",
    "- if you have a length  of stay less than 7 days (meaning you havent been through a recoupling) AND your number of couples is zero, can i give you some value for loyalty that wont ruin the models assesment of them?"
   ]
  },
  {
   "cell_type": "code",
   "execution_count": 16,
   "metadata": {},
   "outputs": [
    {
     "name": "stdout",
     "output_type": "stream",
     "text": [
      "0.8055555555555556\n"
     ]
    }
   ],
   "source": [
    "#Decision Tree\n",
    "decision_tree = tree.DecisionTreeClassifier(random_state=42)\n",
    "decision_tree.fit(x_train,y_train)\n",
    "y_pred = decision_tree.predict(x_validate)\n",
    "decision_tree_accuracy = accuracy_score(y_pred, y_validate)\n",
    "\n",
    "print(decision_tree_accuracy)"
   ]
  },
  {
   "cell_type": "code",
   "execution_count": 17,
   "metadata": {},
   "outputs": [
    {
     "name": "stdout",
     "output_type": "stream",
     "text": [
      "0.7222222222222222\n"
     ]
    }
   ],
   "source": [
    "perceptron = Perceptron(random_state=42)\n",
    "perceptron.fit(x_train, y_train)\n",
    "\n",
    "y_pred = perceptron.predict(x_validate)\n",
    "\n",
    "perceptron_accuracy = accuracy_score(y_pred, y_validate)\n",
    "\n",
    "print(perceptron_accuracy)"
   ]
  },
  {
   "cell_type": "code",
   "execution_count": 18,
   "metadata": {},
   "outputs": [
    {
     "name": "stdout",
     "output_type": "stream",
     "text": [
      "0.6388888888888888\n"
     ]
    }
   ],
   "source": [
    "knn = KNeighborsClassifier()\n",
    "knn.fit(x_train, y_train)\n",
    "y_pred = knn.predict(x_validate)\n",
    "knn_accuracy = accuracy_score(y_pred, y_validate)\n",
    "\n",
    "print(knn_accuracy)"
   ]
  },
  {
   "cell_type": "code",
   "execution_count": 19,
   "metadata": {},
   "outputs": [
    {
     "data": {
      "text/html": [
       "<div>\n",
       "<style scoped>\n",
       "    .dataframe tbody tr th:only-of-type {\n",
       "        vertical-align: middle;\n",
       "    }\n",
       "\n",
       "    .dataframe tbody tr th {\n",
       "        vertical-align: top;\n",
       "    }\n",
       "\n",
       "    .dataframe thead th {\n",
       "        text-align: right;\n",
       "    }\n",
       "</style>\n",
       "<table border=\"1\" class=\"dataframe\">\n",
       "  <thead>\n",
       "    <tr style=\"text-align: right;\">\n",
       "      <th></th>\n",
       "      <th>Model Type</th>\n",
       "    </tr>\n",
       "    <tr>\n",
       "      <th>Accuracy_Score</th>\n",
       "      <th></th>\n",
       "    </tr>\n",
       "  </thead>\n",
       "  <tbody>\n",
       "    <tr>\n",
       "      <th>0.888889</th>\n",
       "      <td>Random Forest</td>\n",
       "    </tr>\n",
       "    <tr>\n",
       "      <th>0.805556</th>\n",
       "      <td>Logistic Regression</td>\n",
       "    </tr>\n",
       "    <tr>\n",
       "      <th>0.805556</th>\n",
       "      <td>Decision Tree</td>\n",
       "    </tr>\n",
       "    <tr>\n",
       "      <th>0.722222</th>\n",
       "      <td>Dummy Classifier</td>\n",
       "    </tr>\n",
       "    <tr>\n",
       "      <th>0.722222</th>\n",
       "      <td>Perceptron</td>\n",
       "    </tr>\n",
       "    <tr>\n",
       "      <th>0.638889</th>\n",
       "      <td>KNeightbors</td>\n",
       "    </tr>\n",
       "  </tbody>\n",
       "</table>\n",
       "</div>"
      ],
      "text/plain": [
       "                         Model Type\n",
       "Accuracy_Score                     \n",
       "0.888889              Random Forest\n",
       "0.805556        Logistic Regression\n",
       "0.805556              Decision Tree\n",
       "0.722222           Dummy Classifier\n",
       "0.722222                 Perceptron\n",
       "0.638889                KNeightbors"
      ]
     },
     "execution_count": 19,
     "metadata": {},
     "output_type": "execute_result"
    }
   ],
   "source": [
    "# Rank models\n",
    "ranking = pd.DataFrame({\n",
    "    'Model Type': ['Dummy Classifier', 'Logistic Regression', 'Random Forest', 'Decision Tree', 'Perceptron', 'KNeightbors'],\n",
    "    'Accuracy_Score': [dc_accuracy, log_accuracy, random_forest_accuracy, decision_tree_accuracy, perceptron_accuracy, knn_accuracy]\n",
    "})\n",
    "\n",
    "ranking_df = ranking.sort_values(by='Accuracy_Score', ascending=False)\n",
    "ranking_df = ranking_df.set_index('Accuracy_Score')\n",
    "ranking_df.head(6)"
   ]
  },
  {
   "cell_type": "code",
   "execution_count": 22,
   "metadata": {},
   "outputs": [],
   "source": [
    "# LOOKS like random forest performs the best - now do some cross validation on random forest model to see performance on multiple folds of data"
   ]
  },
  {
   "cell_type": "code",
   "execution_count": 41,
   "metadata": {},
   "outputs": [
    {
     "name": "stdout",
     "output_type": "stream",
     "text": [
      "Scores: [0.73913043 0.73913043 0.82608696 0.82608696 0.90909091 0.77272727\n",
      " 0.63636364 0.72727273 0.81818182 0.54545455]\n",
      "Mean: 0.7539525691699603\n",
      "Standard Deviation: 0.0986926129069302\n"
     ]
    }
   ],
   "source": [
    "# Random Forest Cross Validation\n",
    "from sklearn.model_selection import cross_val_score\n",
    "rf = RandomForestClassifier(n_estimators=100)\n",
    "scores = cross_val_score(rf, x_train, y_train, cv=10, scoring = \"accuracy\")\n",
    "print(\"Scores:\", scores)\n",
    "print(\"Mean:\", scores.mean())\n",
    "print(\"Standard Deviation:\", scores.std())"
   ]
  },
  {
   "cell_type": "markdown",
   "metadata": {},
   "source": [
    "This is somewhat more in line with reality - my model will likely not have a ~90% success rate in selecting winners. <br>\n",
    "Above it shows average model accuracy using 10 folds and the standard deviation which shows the variation between these scores. <br>\n",
    "I'd like to get score higher and the standard deviation lower if possible"
   ]
  },
  {
   "cell_type": "markdown",
   "metadata": {},
   "source": [
    "This performs worse than log reg now - Why is logreg working so well???"
   ]
  },
  {
   "cell_type": "code",
   "execution_count": 23,
   "metadata": {},
   "outputs": [
    {
     "data": {
      "text/html": [
       "<div>\n",
       "<style scoped>\n",
       "    .dataframe tbody tr th:only-of-type {\n",
       "        vertical-align: middle;\n",
       "    }\n",
       "\n",
       "    .dataframe tbody tr th {\n",
       "        vertical-align: top;\n",
       "    }\n",
       "\n",
       "    .dataframe thead th {\n",
       "        text-align: right;\n",
       "    }\n",
       "</style>\n",
       "<table border=\"1\" class=\"dataframe\">\n",
       "  <thead>\n",
       "    <tr style=\"text-align: right;\">\n",
       "      <th></th>\n",
       "      <th>importance</th>\n",
       "    </tr>\n",
       "    <tr>\n",
       "      <th>feature</th>\n",
       "      <th></th>\n",
       "    </tr>\n",
       "  </thead>\n",
       "  <tbody>\n",
       "    <tr>\n",
       "      <th>Loyalty</th>\n",
       "      <td>0.432</td>\n",
       "    </tr>\n",
       "    <tr>\n",
       "      <th>Height</th>\n",
       "      <td>0.137</td>\n",
       "    </tr>\n",
       "    <tr>\n",
       "      <th>Entered</th>\n",
       "      <td>0.133</td>\n",
       "    </tr>\n",
       "    <tr>\n",
       "      <th>Age</th>\n",
       "      <td>0.105</td>\n",
       "    </tr>\n",
       "    <tr>\n",
       "      <th>Season</th>\n",
       "      <td>0.090</td>\n",
       "    </tr>\n",
       "    <tr>\n",
       "      <th>Gender</th>\n",
       "      <td>0.023</td>\n",
       "    </tr>\n",
       "    <tr>\n",
       "      <th>South</th>\n",
       "      <td>0.018</td>\n",
       "    </tr>\n",
       "    <tr>\n",
       "      <th>Ireland</th>\n",
       "      <td>0.016</td>\n",
       "    </tr>\n",
       "    <tr>\n",
       "      <th>Midlands</th>\n",
       "      <td>0.015</td>\n",
       "    </tr>\n",
       "    <tr>\n",
       "      <th>North</th>\n",
       "      <td>0.014</td>\n",
       "    </tr>\n",
       "    <tr>\n",
       "      <th>Wales</th>\n",
       "      <td>0.009</td>\n",
       "    </tr>\n",
       "    <tr>\n",
       "      <th>Scotland</th>\n",
       "      <td>0.008</td>\n",
       "    </tr>\n",
       "    <tr>\n",
       "      <th>Islands</th>\n",
       "      <td>0.000</td>\n",
       "    </tr>\n",
       "    <tr>\n",
       "      <th>NFR</th>\n",
       "      <td>0.000</td>\n",
       "    </tr>\n",
       "  </tbody>\n",
       "</table>\n",
       "</div>"
      ],
      "text/plain": [
       "          importance\n",
       "feature             \n",
       "Loyalty        0.432\n",
       "Height         0.137\n",
       "Entered        0.133\n",
       "Age            0.105\n",
       "Season         0.090\n",
       "Gender         0.023\n",
       "South          0.018\n",
       "Ireland        0.016\n",
       "Midlands       0.015\n",
       "North          0.014\n",
       "Wales          0.009\n",
       "Scotland       0.008\n",
       "Islands        0.000\n",
       "NFR            0.000"
      ]
     },
     "execution_count": 23,
     "metadata": {},
     "output_type": "execute_result"
    }
   ],
   "source": [
    "# ranking importance of features for model when using randomf forest\n",
    "importances = pd.DataFrame({'feature':x_train.columns,'importance':np.round(random_forest.feature_importances_,3)})\n",
    "importances = importances.sort_values('importance',ascending=False).set_index('feature')\n",
    "importances.head(15)"
   ]
  },
  {
   "cell_type": "markdown",
   "metadata": {},
   "source": [
    "Looks like location doesnt have much impact on who wins, I will probably drop this altogether on a new iteration of the model\n",
    "I also need  to make sure season is not incorporated into the model - it needs to be dropped after splitting data\n",
    "Loyalty is most important by a wide margin - should i try and scale this feature differently?\n",
    "Should i incorporate any other features that were dropped or engineer new features?"
   ]
  },
  {
   "cell_type": "code",
   "execution_count": null,
   "metadata": {},
   "outputs": [],
   "source": [
    "# https://towardsdatascience.com/predicting-the-survival-of-titanic-passengers-30870ccc7e8\n",
    "\n",
    "# this link helps for this part of messing with paramaters and determining accuracy"
   ]
  }
 ],
 "metadata": {
  "kernelspec": {
   "display_name": "lenv",
   "language": "python",
   "name": "python3"
  },
  "language_info": {
   "codemirror_mode": {
    "name": "ipython",
    "version": 3
   },
   "file_extension": ".py",
   "mimetype": "text/x-python",
   "name": "python",
   "nbconvert_exporter": "python",
   "pygments_lexer": "ipython3",
   "version": "3.10.12"
  },
  "orig_nbformat": 4
 },
 "nbformat": 4,
 "nbformat_minor": 2
}
