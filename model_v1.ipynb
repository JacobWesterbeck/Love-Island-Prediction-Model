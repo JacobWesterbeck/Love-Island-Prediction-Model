{
 "cells": [
  {
   "cell_type": "code",
   "execution_count": 14,
   "metadata": {},
   "outputs": [],
   "source": [
    "#Import packages\n",
    "import pandas as pd\n",
    "import numpy as np\n",
    "import seaborn as sns"
   ]
  },
  {
   "cell_type": "code",
   "execution_count": 12,
   "metadata": {},
   "outputs": [],
   "source": [
    "#Import function from preprocessing\n",
    "from data_preprocessing import train_val_test"
   ]
  },
  {
   "cell_type": "code",
   "execution_count": 13,
   "metadata": {},
   "outputs": [],
   "source": [
    "#Import packges for modeling\n",
    "from sklearn.metrics import mean_squared_error, explained_variance_score, mean_absolute_error\n",
    "from sklearn.linear_model import LogisticRegression"
   ]
  },
  {
   "cell_type": "code",
   "execution_count": 4,
   "metadata": {},
   "outputs": [],
   "source": [
    "import os\n",
    "cwd = os.getcwd()"
   ]
  },
  {
   "cell_type": "code",
   "execution_count": 5,
   "metadata": {},
   "outputs": [],
   "source": [
    "model_data = pd.read_csv(cwd + '/data/model_data.csv')"
   ]
  },
  {
   "cell_type": "code",
   "execution_count": 6,
   "metadata": {},
   "outputs": [
    {
     "data": {
      "text/html": [
       "<div>\n",
       "<style scoped>\n",
       "    .dataframe tbody tr th:only-of-type {\n",
       "        vertical-align: middle;\n",
       "    }\n",
       "\n",
       "    .dataframe tbody tr th {\n",
       "        vertical-align: top;\n",
       "    }\n",
       "\n",
       "    .dataframe thead th {\n",
       "        text-align: right;\n",
       "    }\n",
       "</style>\n",
       "<table border=\"1\" class=\"dataframe\">\n",
       "  <thead>\n",
       "    <tr style=\"text-align: right;\">\n",
       "      <th></th>\n",
       "      <th>Name</th>\n",
       "      <th>Season</th>\n",
       "      <th>Gender</th>\n",
       "      <th>Age</th>\n",
       "      <th>Height</th>\n",
       "      <th>Entered</th>\n",
       "      <th>Finalist</th>\n",
       "      <th>Loyalty</th>\n",
       "      <th>Ireland</th>\n",
       "      <th>Islands</th>\n",
       "      <th>Midlands</th>\n",
       "      <th>NFR</th>\n",
       "      <th>North</th>\n",
       "      <th>Scotland</th>\n",
       "      <th>South</th>\n",
       "      <th>Wales</th>\n",
       "    </tr>\n",
       "  </thead>\n",
       "  <tbody>\n",
       "    <tr>\n",
       "      <th>0</th>\n",
       "      <td>Malia Arkian</td>\n",
       "      <td>2</td>\n",
       "      <td>Female</td>\n",
       "      <td>26</td>\n",
       "      <td>66</td>\n",
       "      <td>7</td>\n",
       "      <td>0</td>\n",
       "      <td>1.0</td>\n",
       "      <td>False</td>\n",
       "      <td>False</td>\n",
       "      <td>True</td>\n",
       "      <td>False</td>\n",
       "      <td>False</td>\n",
       "      <td>False</td>\n",
       "      <td>False</td>\n",
       "      <td>False</td>\n",
       "    </tr>\n",
       "    <tr>\n",
       "      <th>1</th>\n",
       "      <td>Ben Porter</td>\n",
       "      <td>1</td>\n",
       "      <td>Male</td>\n",
       "      <td>24</td>\n",
       "      <td>71</td>\n",
       "      <td>32</td>\n",
       "      <td>0</td>\n",
       "      <td>1.0</td>\n",
       "      <td>False</td>\n",
       "      <td>False</td>\n",
       "      <td>False</td>\n",
       "      <td>False</td>\n",
       "      <td>True</td>\n",
       "      <td>False</td>\n",
       "      <td>False</td>\n",
       "      <td>False</td>\n",
       "    </tr>\n",
       "    <tr>\n",
       "      <th>2</th>\n",
       "      <td>Poppy Farnan</td>\n",
       "      <td>1</td>\n",
       "      <td>Female</td>\n",
       "      <td>22</td>\n",
       "      <td>66</td>\n",
       "      <td>32</td>\n",
       "      <td>0</td>\n",
       "      <td>1.0</td>\n",
       "      <td>False</td>\n",
       "      <td>False</td>\n",
       "      <td>False</td>\n",
       "      <td>False</td>\n",
       "      <td>False</td>\n",
       "      <td>False</td>\n",
       "      <td>True</td>\n",
       "      <td>False</td>\n",
       "    </tr>\n",
       "    <tr>\n",
       "      <th>3</th>\n",
       "      <td>Oliver Maxwell Fernandez</td>\n",
       "      <td>2</td>\n",
       "      <td>Male</td>\n",
       "      <td>25</td>\n",
       "      <td>74</td>\n",
       "      <td>30</td>\n",
       "      <td>0</td>\n",
       "      <td>1.0</td>\n",
       "      <td>False</td>\n",
       "      <td>False</td>\n",
       "      <td>False</td>\n",
       "      <td>False</td>\n",
       "      <td>False</td>\n",
       "      <td>False</td>\n",
       "      <td>True</td>\n",
       "      <td>False</td>\n",
       "    </tr>\n",
       "    <tr>\n",
       "      <th>4</th>\n",
       "      <td>Shannon Singh</td>\n",
       "      <td>7</td>\n",
       "      <td>Female</td>\n",
       "      <td>22</td>\n",
       "      <td>68</td>\n",
       "      <td>1</td>\n",
       "      <td>0</td>\n",
       "      <td>1.0</td>\n",
       "      <td>False</td>\n",
       "      <td>False</td>\n",
       "      <td>False</td>\n",
       "      <td>False</td>\n",
       "      <td>False</td>\n",
       "      <td>True</td>\n",
       "      <td>False</td>\n",
       "      <td>False</td>\n",
       "    </tr>\n",
       "  </tbody>\n",
       "</table>\n",
       "</div>"
      ],
      "text/plain": [
       "                       Name  Season  Gender  Age  Height  Entered  Finalist  \\\n",
       "0              Malia Arkian       2  Female   26      66        7         0   \n",
       "1                Ben Porter       1    Male   24      71       32         0   \n",
       "2              Poppy Farnan       1  Female   22      66       32         0   \n",
       "3  Oliver Maxwell Fernandez       2    Male   25      74       30         0   \n",
       "4             Shannon Singh       7  Female   22      68        1         0   \n",
       "\n",
       "   Loyalty  Ireland  Islands  Midlands    NFR  North  Scotland  South  Wales  \n",
       "0      1.0    False    False      True  False  False     False  False  False  \n",
       "1      1.0    False    False     False  False   True     False  False  False  \n",
       "2      1.0    False    False     False  False  False     False   True  False  \n",
       "3      1.0    False    False     False  False  False     False   True  False  \n",
       "4      1.0    False    False     False  False  False      True  False  False  "
      ]
     },
     "execution_count": 6,
     "metadata": {},
     "output_type": "execute_result"
    }
   ],
   "source": [
    "model_data.head()"
   ]
  },
  {
   "cell_type": "markdown",
   "metadata": {},
   "source": [
    "### More Preprocessing to do\n",
    "Need to change finalist to binary rather than yes/no - do this in preprocessing."
   ]
  },
  {
   "cell_type": "code",
   "execution_count": 7,
   "metadata": {},
   "outputs": [
    {
     "name": "stdout",
     "output_type": "stream",
     "text": [
      "Train Split:  (224, 15) | Validate Split:  (36, 15) | Test Split:  (35, 15)\n"
     ]
    }
   ],
   "source": [
    "x_train, y_train, x_validate, y_validate, x_test, y_test = train_val_test(model_data, 'Finalist')"
   ]
  },
  {
   "cell_type": "markdown",
   "metadata": {},
   "source": [
    "Seasons typically start with 11 islanders on episode 1. 5 initial couples and one bombshell. \n",
    "People are periodically added and they are usually 7  to 9 couples with 1 - 3 additional singles. Therefore there are roughly 15 - 21 contestants on at any given time. I am looking for the top 8 (4  from each gender)\n",
    "I am predicting the 8 most probable islanders to make finals. I can either take their score as is, or then match go a step further and evaluate current couples likelihood."
   ]
  },
  {
   "cell_type": "markdown",
   "metadata": {},
   "source": [
    "Model types i want to try\n",
    "\n",
    "logistic - https://medium.com/@ashishmishra2k19/logistic-regression-the-baseline-classification-model-explained-89915f5b13b2\n",
    "- has some drawbacks for my specific case - it assumes a linear relationship between features, is sensitive to outliers, and  cant automatically learn features  like tree based models\n",
    "- no need to scale features tho\n",
    "- output is probability scores which  is nice\n",
    "- Some features are not linearly correlated, but still are important indicators, so this may not be very accurate\n",
    "\n",
    "decison tree\n",
    "- better at dealing with features that dont have a strong linear correlation to target\n",
    "\n",
    "random forest"
   ]
  },
  {
   "cell_type": "markdown",
   "metadata": {},
   "source": [
    "### Modeling\n",
    "\n",
    "Produce a predictive model that outperforms baseline in predicting the  target variable - \"Finalist\"."
   ]
  },
  {
   "cell_type": "code",
   "execution_count": null,
   "metadata": {},
   "outputs": [],
   "source": [
    "https://medium.com/@melodyyip_/titanic-survival-prediction-using-machine-learning-89a779656113\n",
    "#For sure run log reg, Decision Tree, Random Forest\n",
    "\n",
    "#Logistic Regression - simple logistic regression model could be a great baseline to beat\n",
    "\n",
    "\n",
    "\n",
    "# Decision Tree\n",
    "\n",
    "\n",
    "\n",
    "# Random Forest\n",
    "\n",
    "\n",
    "\n",
    "# Maybe run some others like perceptron, SGDClassifier, KNeighborsclassifier, SVC, GuassianNB\n",
    "\n"
   ]
  },
  {
   "cell_type": "markdown",
   "metadata": {},
   "source": [
    "#### Baseline"
   ]
  },
  {
   "cell_type": "code",
   "execution_count": 8,
   "metadata": {},
   "outputs": [
    {
     "data": {
      "text/plain": [
       "0.25"
      ]
     },
     "execution_count": 8,
     "metadata": {},
     "output_type": "execute_result"
    }
   ],
   "source": [
    "np.mean(y_train)"
   ]
  },
  {
   "cell_type": "code",
   "execution_count": 9,
   "metadata": {},
   "outputs": [
    {
     "ename": "SyntaxError",
     "evalue": "invalid syntax (3229431315.py, line 3)",
     "output_type": "error",
     "traceback": [
      "\u001b[0;36m  Cell \u001b[0;32mIn[9], line 3\u001b[0;36m\u001b[0m\n\u001b[0;31m    baseline_rmse_train =\u001b[0m\n\u001b[0m                         ^\u001b[0m\n\u001b[0;31mSyntaxError\u001b[0m\u001b[0;31m:\u001b[0m invalid syntax\n"
     ]
    }
   ],
   "source": [
    "baseline = y_train.mean()\n",
    "\n",
    "baseline_rmse_train =\n",
    "\n",
    "baseline_rmse_validate = "
   ]
  },
  {
   "cell_type": "code",
   "execution_count": null,
   "metadata": {},
   "outputs": [],
   "source": [
    "np.median(y_train)"
   ]
  },
  {
   "cell_type": "code",
   "execution_count": null,
   "metadata": {},
   "outputs": [],
   "source": [
    "baseline = y_train.median()\n",
    "\n",
    "baseline_rmse_train =\n",
    "\n",
    "baseline_rmse_validate = "
   ]
  },
  {
   "cell_type": "markdown",
   "metadata": {},
   "source": [
    "does mean or median perform better in rmse test? usewhichever performs better - the value of np.mean or np.median will be the baseline a model must beat."
   ]
  }
 ],
 "metadata": {
  "kernelspec": {
   "display_name": "lenv",
   "language": "python",
   "name": "python3"
  },
  "language_info": {
   "codemirror_mode": {
    "name": "ipython",
    "version": 3
   },
   "file_extension": ".py",
   "mimetype": "text/x-python",
   "name": "python",
   "nbconvert_exporter": "python",
   "pygments_lexer": "ipython3",
   "version": "3.10.12"
  },
  "orig_nbformat": 4
 },
 "nbformat": 4,
 "nbformat_minor": 2
}
